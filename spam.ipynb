{
 "cells": [
  {
   "cell_type": "code",
   "execution_count": 14,
   "metadata": {},
   "outputs": [],
   "source": [
    "import numpy as np\n",
    "import pandas as pd "
   ]
  },
  {
   "cell_type": "code",
   "execution_count": 15,
   "metadata": {},
   "outputs": [
    {
     "name": "stdout",
     "output_type": "stream",
     "text": [
      "[Errno 2] No such file or directory: 'Documents'\n",
      "/Users/bharat/Documents\n"
     ]
    }
   ],
   "source": [
    "cd Documents"
   ]
  },
  {
   "cell_type": "code",
   "execution_count": 16,
   "metadata": {},
   "outputs": [
    {
     "data": {
      "text/html": [
       "<div>\n",
       "<style scoped>\n",
       "    .dataframe tbody tr th:only-of-type {\n",
       "        vertical-align: middle;\n",
       "    }\n",
       "\n",
       "    .dataframe tbody tr th {\n",
       "        vertical-align: top;\n",
       "    }\n",
       "\n",
       "    .dataframe thead th {\n",
       "        text-align: right;\n",
       "    }\n",
       "</style>\n",
       "<table border=\"1\" class=\"dataframe\">\n",
       "  <thead>\n",
       "    <tr style=\"text-align: right;\">\n",
       "      <th></th>\n",
       "      <th>v1</th>\n",
       "      <th>v2</th>\n",
       "      <th>Unnamed: 2</th>\n",
       "      <th>Unnamed: 3</th>\n",
       "      <th>Unnamed: 4</th>\n",
       "    </tr>\n",
       "  </thead>\n",
       "  <tbody>\n",
       "    <tr>\n",
       "      <td>0</td>\n",
       "      <td>0</td>\n",
       "      <td>Go until jurong point, crazy.. Available only ...</td>\n",
       "      <td>NaN</td>\n",
       "      <td>NaN</td>\n",
       "      <td>NaN</td>\n",
       "    </tr>\n",
       "    <tr>\n",
       "      <td>1</td>\n",
       "      <td>0</td>\n",
       "      <td>Ok lar... Joking wif u oni...</td>\n",
       "      <td>NaN</td>\n",
       "      <td>NaN</td>\n",
       "      <td>NaN</td>\n",
       "    </tr>\n",
       "    <tr>\n",
       "      <td>2</td>\n",
       "      <td>1</td>\n",
       "      <td>Free entry in 2 a wkly comp to win FA Cup fina...</td>\n",
       "      <td>NaN</td>\n",
       "      <td>NaN</td>\n",
       "      <td>NaN</td>\n",
       "    </tr>\n",
       "    <tr>\n",
       "      <td>3</td>\n",
       "      <td>0</td>\n",
       "      <td>U dun say so early hor... U c already then say...</td>\n",
       "      <td>NaN</td>\n",
       "      <td>NaN</td>\n",
       "      <td>NaN</td>\n",
       "    </tr>\n",
       "    <tr>\n",
       "      <td>4</td>\n",
       "      <td>0</td>\n",
       "      <td>Nah I don't think he goes to usf, he lives aro...</td>\n",
       "      <td>NaN</td>\n",
       "      <td>NaN</td>\n",
       "      <td>NaN</td>\n",
       "    </tr>\n",
       "    <tr>\n",
       "      <td>...</td>\n",
       "      <td>...</td>\n",
       "      <td>...</td>\n",
       "      <td>...</td>\n",
       "      <td>...</td>\n",
       "      <td>...</td>\n",
       "    </tr>\n",
       "    <tr>\n",
       "      <td>5567</td>\n",
       "      <td>1</td>\n",
       "      <td>This is the 2nd time we have tried 2 contact u...</td>\n",
       "      <td>NaN</td>\n",
       "      <td>NaN</td>\n",
       "      <td>NaN</td>\n",
       "    </tr>\n",
       "    <tr>\n",
       "      <td>5568</td>\n",
       "      <td>0</td>\n",
       "      <td>Will Ì_ b going to esplanade fr home?</td>\n",
       "      <td>NaN</td>\n",
       "      <td>NaN</td>\n",
       "      <td>NaN</td>\n",
       "    </tr>\n",
       "    <tr>\n",
       "      <td>5569</td>\n",
       "      <td>0</td>\n",
       "      <td>Pity, * was in mood for that. So...any other s...</td>\n",
       "      <td>NaN</td>\n",
       "      <td>NaN</td>\n",
       "      <td>NaN</td>\n",
       "    </tr>\n",
       "    <tr>\n",
       "      <td>5570</td>\n",
       "      <td>0</td>\n",
       "      <td>The guy did some bitching but I acted like i'd...</td>\n",
       "      <td>NaN</td>\n",
       "      <td>NaN</td>\n",
       "      <td>NaN</td>\n",
       "    </tr>\n",
       "    <tr>\n",
       "      <td>5571</td>\n",
       "      <td>0</td>\n",
       "      <td>Rofl. Its true to its name</td>\n",
       "      <td>NaN</td>\n",
       "      <td>NaN</td>\n",
       "      <td>NaN</td>\n",
       "    </tr>\n",
       "  </tbody>\n",
       "</table>\n",
       "<p>5572 rows × 5 columns</p>\n",
       "</div>"
      ],
      "text/plain": [
       "      v1                                                 v2 Unnamed: 2  \\\n",
       "0      0  Go until jurong point, crazy.. Available only ...        NaN   \n",
       "1      0                      Ok lar... Joking wif u oni...        NaN   \n",
       "2      1  Free entry in 2 a wkly comp to win FA Cup fina...        NaN   \n",
       "3      0  U dun say so early hor... U c already then say...        NaN   \n",
       "4      0  Nah I don't think he goes to usf, he lives aro...        NaN   \n",
       "...   ..                                                ...        ...   \n",
       "5567   1  This is the 2nd time we have tried 2 contact u...        NaN   \n",
       "5568   0              Will Ì_ b going to esplanade fr home?        NaN   \n",
       "5569   0  Pity, * was in mood for that. So...any other s...        NaN   \n",
       "5570   0  The guy did some bitching but I acted like i'd...        NaN   \n",
       "5571   0                         Rofl. Its true to its name        NaN   \n",
       "\n",
       "     Unnamed: 3 Unnamed: 4  \n",
       "0           NaN        NaN  \n",
       "1           NaN        NaN  \n",
       "2           NaN        NaN  \n",
       "3           NaN        NaN  \n",
       "4           NaN        NaN  \n",
       "...         ...        ...  \n",
       "5567        NaN        NaN  \n",
       "5568        NaN        NaN  \n",
       "5569        NaN        NaN  \n",
       "5570        NaN        NaN  \n",
       "5571        NaN        NaN  \n",
       "\n",
       "[5572 rows x 5 columns]"
      ]
     },
     "execution_count": 16,
     "metadata": {},
     "output_type": "execute_result"
    }
   ],
   "source": [
    "spam = pd.read_csv('spam.csv', encoding = 'latin- 1')\n",
    "emails = spam\n",
    "spam.head()\n",
    "spam['v1'] = pd.Series(np.where(spam.v1.values == 'spam', 1, 0), spam.index)\n",
    "spam"
   ]
  },
  {
   "cell_type": "code",
   "execution_count": 17,
   "metadata": {},
   "outputs": [],
   "source": [
    "train = []\n",
    "test = []\n",
    "for i in range(spam.shape[0]):\n",
    "    if np.random.normal(0, 1) < 0.75:\n",
    "        train += [i]\n",
    "    else :\n",
    "        test += [i]\n",
    "traindata = spam.loc[train]\n",
    "testdata = spam.loc[test]\n",
    "\n"
   ]
  },
  {
   "cell_type": "code",
   "execution_count": 84,
   "metadata": {},
   "outputs": [
    {
     "data": {
      "text/plain": [
       "0.46929292514730137"
      ]
     },
     "execution_count": 84,
     "metadata": {},
     "output_type": "execute_result"
    }
   ],
   "source": [
    "np.random.uniform(0, 1)"
   ]
  },
  {
   "cell_type": "code",
   "execution_count": 85,
   "metadata": {},
   "outputs": [
    {
     "data": {
      "text/html": [
       "<div>\n",
       "<style scoped>\n",
       "    .dataframe tbody tr th:only-of-type {\n",
       "        vertical-align: middle;\n",
       "    }\n",
       "\n",
       "    .dataframe tbody tr th {\n",
       "        vertical-align: top;\n",
       "    }\n",
       "\n",
       "    .dataframe thead th {\n",
       "        text-align: right;\n",
       "    }\n",
       "</style>\n",
       "<table border=\"1\" class=\"dataframe\">\n",
       "  <thead>\n",
       "    <tr style=\"text-align: right;\">\n",
       "      <th></th>\n",
       "      <th>v1</th>\n",
       "      <th>v2</th>\n",
       "      <th>Unnamed: 2</th>\n",
       "      <th>Unnamed: 3</th>\n",
       "      <th>Unnamed: 4</th>\n",
       "    </tr>\n",
       "  </thead>\n",
       "  <tbody>\n",
       "    <tr>\n",
       "      <td>1</td>\n",
       "      <td>0</td>\n",
       "      <td>Ok lar... Joking wif u oni...</td>\n",
       "      <td>NaN</td>\n",
       "      <td>NaN</td>\n",
       "      <td>NaN</td>\n",
       "    </tr>\n",
       "    <tr>\n",
       "      <td>6</td>\n",
       "      <td>0</td>\n",
       "      <td>Even my brother is not like to speak with me. ...</td>\n",
       "      <td>NaN</td>\n",
       "      <td>NaN</td>\n",
       "      <td>NaN</td>\n",
       "    </tr>\n",
       "    <tr>\n",
       "      <td>9</td>\n",
       "      <td>1</td>\n",
       "      <td>Had your mobile 11 months or more? U R entitle...</td>\n",
       "      <td>NaN</td>\n",
       "      <td>NaN</td>\n",
       "      <td>NaN</td>\n",
       "    </tr>\n",
       "    <tr>\n",
       "      <td>12</td>\n",
       "      <td>1</td>\n",
       "      <td>URGENT! You have won a 1 week FREE membership ...</td>\n",
       "      <td>NaN</td>\n",
       "      <td>NaN</td>\n",
       "      <td>NaN</td>\n",
       "    </tr>\n",
       "    <tr>\n",
       "      <td>14</td>\n",
       "      <td>0</td>\n",
       "      <td>I HAVE A DATE ON SUNDAY WITH WILL!!</td>\n",
       "      <td>NaN</td>\n",
       "      <td>NaN</td>\n",
       "      <td>NaN</td>\n",
       "    </tr>\n",
       "    <tr>\n",
       "      <td>...</td>\n",
       "      <td>...</td>\n",
       "      <td>...</td>\n",
       "      <td>...</td>\n",
       "      <td>...</td>\n",
       "      <td>...</td>\n",
       "    </tr>\n",
       "    <tr>\n",
       "      <td>5553</td>\n",
       "      <td>0</td>\n",
       "      <td>Hahaha..use your brain dear</td>\n",
       "      <td>NaN</td>\n",
       "      <td>NaN</td>\n",
       "      <td>NaN</td>\n",
       "    </tr>\n",
       "    <tr>\n",
       "      <td>5555</td>\n",
       "      <td>0</td>\n",
       "      <td>Yeh. Indians was nice. Tho it did kane me off ...</td>\n",
       "      <td>NaN</td>\n",
       "      <td>NaN</td>\n",
       "      <td>NaN</td>\n",
       "    </tr>\n",
       "    <tr>\n",
       "      <td>5557</td>\n",
       "      <td>0</td>\n",
       "      <td>No. I meant the calculation is the same. That ...</td>\n",
       "      <td>NaN</td>\n",
       "      <td>NaN</td>\n",
       "      <td>NaN</td>\n",
       "    </tr>\n",
       "    <tr>\n",
       "      <td>5564</td>\n",
       "      <td>0</td>\n",
       "      <td>Why don't you wait 'til at least wednesday to ...</td>\n",
       "      <td>NaN</td>\n",
       "      <td>NaN</td>\n",
       "      <td>NaN</td>\n",
       "    </tr>\n",
       "    <tr>\n",
       "      <td>5567</td>\n",
       "      <td>1</td>\n",
       "      <td>This is the 2nd time we have tried 2 contact u...</td>\n",
       "      <td>NaN</td>\n",
       "      <td>NaN</td>\n",
       "      <td>NaN</td>\n",
       "    </tr>\n",
       "  </tbody>\n",
       "</table>\n",
       "<p>1233 rows × 5 columns</p>\n",
       "</div>"
      ],
      "text/plain": [
       "      v1                                                 v2 Unnamed: 2  \\\n",
       "1      0                      Ok lar... Joking wif u oni...        NaN   \n",
       "6      0  Even my brother is not like to speak with me. ...        NaN   \n",
       "9      1  Had your mobile 11 months or more? U R entitle...        NaN   \n",
       "12     1  URGENT! You have won a 1 week FREE membership ...        NaN   \n",
       "14     0                I HAVE A DATE ON SUNDAY WITH WILL!!        NaN   \n",
       "...   ..                                                ...        ...   \n",
       "5553   0                        Hahaha..use your brain dear        NaN   \n",
       "5555   0  Yeh. Indians was nice. Tho it did kane me off ...        NaN   \n",
       "5557   0  No. I meant the calculation is the same. That ...        NaN   \n",
       "5564   0  Why don't you wait 'til at least wednesday to ...        NaN   \n",
       "5567   1  This is the 2nd time we have tried 2 contact u...        NaN   \n",
       "\n",
       "     Unnamed: 3 Unnamed: 4  \n",
       "1           NaN        NaN  \n",
       "6           NaN        NaN  \n",
       "9           NaN        NaN  \n",
       "12          NaN        NaN  \n",
       "14          NaN        NaN  \n",
       "...         ...        ...  \n",
       "5553        NaN        NaN  \n",
       "5555        NaN        NaN  \n",
       "5557        NaN        NaN  \n",
       "5564        NaN        NaN  \n",
       "5567        NaN        NaN  \n",
       "\n",
       "[1233 rows x 5 columns]"
      ]
     },
     "execution_count": 85,
     "metadata": {},
     "output_type": "execute_result"
    }
   ],
   "source": [
    "testdata"
   ]
  },
  {
   "cell_type": "code",
   "execution_count": 18,
   "metadata": {},
   "outputs": [],
   "source": [
    "from nltk.corpus import stopwords\n",
    "from nltk.tokenize import word_tokenize\n",
    "from nltk.stem import PorterStemmer\n",
    "\n",
    "#nltk.download('stopwords')"
   ]
  },
  {
   "cell_type": "code",
   "execution_count": 110,
   "metadata": {},
   "outputs": [
    {
     "data": {
      "text/plain": [
       "['i', 'me', 'my', 'myself', 'we', 'our', 'ours', 'ourselves', 'you', \"you're\"]"
      ]
     },
     "execution_count": 110,
     "metadata": {},
     "output_type": "execute_result"
    }
   ],
   "source": [
    "stopwords.words('english')[0:10]"
   ]
  },
  {
   "cell_type": "code",
   "execution_count": 111,
   "metadata": {},
   "outputs": [
    {
     "data": {
      "text/plain": [
       "['I', ',', 'like', ',', 'this2', '2']"
      ]
     },
     "execution_count": 111,
     "metadata": {},
     "output_type": "execute_result"
    }
   ],
   "source": [
    "\n",
    "#from nltk.tokenize import word_tokenize\n",
    "message = \"I, like, this2 2\"\n",
    "#message = re.sub(r'[^\\d\\w\\s]','',message)\n",
    "message\n",
    "w = word_tokenize(message)\n",
    "w"
   ]
  },
  {
   "cell_type": "code",
   "execution_count": 25,
   "metadata": {},
   "outputs": [
    {
     "data": {
      "text/plain": [
       "0"
      ]
     },
     "execution_count": 25,
     "metadata": {},
     "output_type": "execute_result"
    }
   ],
   "source": [
    "l = ['this', 'is']\n",
    "l += ['hell']\n",
    "dic = {'word': 0}\n",
    "dic.get('word', 0)"
   ]
  },
  {
   "cell_type": "code",
   "execution_count": 27,
   "metadata": {},
   "outputs": [],
   "source": [
    "def process(message, gram = 2, porter = True):\n",
    "    message = message.lower()\n",
    "    \n",
    "    #message = re.sub(r'[^\\d\\w\\s]','',message)\n",
    "    wors = word_tokenize(message)\n",
    "    \n",
    "    #print(wors)\n",
    "    words = []\n",
    "    stop_words = stopwords.words('english')\n",
    "    for w in wors:\n",
    "        if len(w) > 2:\n",
    "            words.append(w)\n",
    "    if gram > 1:\n",
    "        wg = []\n",
    "        #print(words)\n",
    "        for i in range(len(words) - gram + 1):\n",
    "            \n",
    "            wg.append(' '.join(words[i:i + gram]))\n",
    "        \n",
    "            \n",
    "        return wg\n",
    "    words = [w for w in words if w not in stop_words]\n",
    "    if porter:\n",
    "        stem = PorterStemmer()\n",
    "        words = [stem.stem(w) for w in words]\n",
    "    return words\n",
    "        \n",
    "    \n",
    "    \n",
    "    \n",
    "        \n",
    "    \n",
    "    \n",
    "            \n",
    "            \n",
    "    \n",
    "            \n",
    "    "
   ]
  },
  {
   "cell_type": "code",
   "execution_count": 28,
   "metadata": {},
   "outputs": [],
   "source": [
    "import math\n",
    "class classifyspam(object):\n",
    "    def __init__(self,trainData):\n",
    "        self.emails = trainData['v2']\n",
    "        self.labels = trainData['v1']\n",
    "        self.spams = trainData[trainData.v1 == 1].shape[0]\n",
    "        self.hams = trainData[trainData.v1 == 0].shape[0]\n",
    "    def train(self):\n",
    "        self.calc_tf_and_idf()\n",
    "        self.calc_tf_idf()\n",
    "        \n",
    "        \n",
    "    \n",
    "    def calc_tf_and_idf(self):\n",
    "        \n",
    "        self.tf_spam = {}\n",
    "        self.tf_ham = {}\n",
    "        self.idf_spam = {}\n",
    "        self.idf_ham = {}\n",
    "        #elf.spam_mail = self.labels.\n",
    "        for i in range(self.emails.shape[0]):\n",
    "            message = process(self.emails.tolist()[i])\n",
    "            words = []\n",
    "            for word in message:\n",
    "                if self.labels.tolist()[i]:\n",
    "                    if word not in self.tf_spam:\n",
    "                        self.tf_spam[word] = 1\n",
    "                    else:\n",
    "                        self.tf_spam[word] += 1\n",
    "                else:\n",
    "                    if word not in self.tf_ham:\n",
    "                        self.tf_ham[word] = 1\n",
    "                    else:\n",
    "                        self.tf_ham[word] += 1\n",
    "                if word not in words:\n",
    "                    words.append(word)\n",
    "            for w in words:\n",
    "                if self.labels.tolist()[i]:\n",
    "                    if w not in self.idf_spam:\n",
    "                        self.idf_spam[w] = 1\n",
    "                    else:\n",
    "                        self.idf_spam[w] += 1\n",
    "                    \n",
    "                else:\n",
    "                    if w not in self.idf_ham:\n",
    "                        self.idf_ham[w] = 1\n",
    "                    else:\n",
    "                        self.idf_ham[w] += 1\n",
    "                    \n",
    "                \n",
    "    def calc_tf_idf(self):\n",
    "        self.spam_prob = {}\n",
    "        self.ham_prob = {}\n",
    "        self.tfidf_spam = 0\n",
    "        self.tfidf_ham = 0\n",
    "        #print(self.tf_spam)\n",
    "        for w in self.tf_spam:\n",
    "            #print(self.idf_spam[w])\n",
    "            #print(\"ham\")\n",
    "            #print(self.idf_ham[w])\n",
    "            self.spam_prob[w] = self.tf_spam[w] * math.log(self.emails.shape[0]/(self.idf_spam[w] + self.idf_ham.get(w, 0)))\n",
    "            self.tfidf_spam += self.spam_prob[w]\n",
    "        for w in self.spam_prob:\n",
    "            self.spam_prob[w] = (self.spam_prob[w] + 1)/(self.tfidf_spam + len(self.spam_prob))\n",
    "        for w in self.tf_ham:\n",
    "            self.ham_prob[w] = self.tf_ham[w] * math.log(self.emails.shape[0]/(self.idf_spam.get(w, 0) + self.idf_ham[w]))\n",
    "            self.tfidf_ham += self.ham_prob[w]\n",
    "        for w in self.ham_prob:\n",
    "            self.ham_prob[w] = (self.ham_prob[w] + 1)/(self.tfidf_ham + len(self.ham_prob))\n",
    "        \n",
    "    def classify(self, message):\n",
    "        self.prob_s = 0\n",
    "        self.prob_h = 0 \n",
    "        #print(message)\n",
    "        for word in message:\n",
    "            if word in self.spam_prob:\n",
    "                #print(\"exists\")\n",
    "                #print(word)\n",
    "                self.prob_s += math.log(self.spam_prob[word])\n",
    "            else:\n",
    "                #print(word)\n",
    "                self.prob_s -= math.log(self.tfidf_spam + len(self.spam_prob))\n",
    "            if word in self.ham_prob:\n",
    "                self.prob_h += math.log(self.ham_prob[word])\n",
    "            else:\n",
    "                self.prob_h -= math.log(self.tfidf_ham + len(self.ham_prob))\n",
    "            self.prob_s += math.log(self.spams/(self.spams + self.hams))\n",
    "            self.prob_h += math.log(self.hams/(self.spams + self.hams))\n",
    "        return self.prob_s >= self.prob_h\n",
    "                \n",
    "    def make_predictions(self, test_data):\n",
    "        results = []\n",
    "        for i in range(test_data.shape[0]):\n",
    "            message = process(test_data['v2'].tolist()[i])\n",
    "            results.append(int(self.classify(message)))\n",
    "        return results\n",
    "                                                         \n",
    "                \n",
    "        \n",
    "                                                         \n",
    "            \n",
    "            \n",
    "            \n",
    "            \n",
    "            \n",
    "            \n",
    "            \n",
    "            \n",
    "            \n",
    "            \n",
    "            \n",
    "                \n",
    "                    \n",
    "                \n",
    "            \n",
    "    "
   ]
  },
  {
   "cell_type": "code",
   "execution_count": 29,
   "metadata": {},
   "outputs": [],
   "source": [
    "def metrics(predictions, labels):\n",
    "    accuracies = 0\n",
    "    true_pos = 0\n",
    "    false_pos = 0\n",
    "    for i in range(len(predictions)):\n",
    "        if predictions[i] == labels.tolist()[i] and labels.tolist()[i] == 1:\n",
    "            true_pos += 1\n",
    "        elif predictions[i] != labels.tolist()[i] and labels.tolist()[i] == 1:\n",
    "            false_pos += 1\n",
    "        \n",
    "    print(\"true pos\", true_pos/(true_pos + false_pos))\n",
    "        "
   ]
  },
  {
   "cell_type": "code",
   "execution_count": 30,
   "metadata": {},
   "outputs": [
    {
     "name": "stdout",
     "output_type": "stream",
     "text": [
      "true pos 0.7032258064516129\n"
     ]
    },
    {
     "data": {
      "text/plain": [
       "False"
      ]
     },
     "execution_count": 30,
     "metadata": {},
     "output_type": "execute_result"
    }
   ],
   "source": [
    "\n",
    "\n",
    "\n",
    "sp = classifyspam(traindata)\n",
    "sp.train()\n",
    "pred = sp.make_predictions(testdata)\n",
    "metrics(pred, testdata['v1'])\n",
    "sp.classify(process('I cant pick up the phone right now. Please message me. '))\n"
   ]
  },
  {
   "cell_type": "code",
   "execution_count": 98,
   "metadata": {},
   "outputs": [
    {
     "name": "stdout",
     "output_type": "stream",
     "text": [
      "['congratulations', 'awarded', '500']\n"
     ]
    },
    {
     "data": {
      "text/plain": [
       "['congratulations awarded', 'awarded 500']"
      ]
     },
     "execution_count": 98,
     "metadata": {},
     "output_type": "execute_result"
    }
   ],
   "source": [
    "process(\"Congratulations ur awarded $500\")"
   ]
  },
  {
   "cell_type": "code",
   "execution_count": 127,
   "metadata": {},
   "outputs": [
    {
     "data": {
      "text/plain": [
       "False"
      ]
     },
     "execution_count": 127,
     "metadata": {},
     "output_type": "execute_result"
    }
   ],
   "source": [
    "sp.classify(testdata['v2'].tolist()[9])"
   ]
  },
  {
   "cell_type": "code",
   "execution_count": 128,
   "metadata": {},
   "outputs": [
    {
     "data": {
      "text/plain": [
       "1"
      ]
     },
     "execution_count": 128,
     "metadata": {},
     "output_type": "execute_result"
    }
   ],
   "source": [
    "int(True)"
   ]
  },
  {
   "cell_type": "code",
   "execution_count": 135,
   "metadata": {},
   "outputs": [
    {
     "data": {
      "text/plain": [
       "-0.6931471805599453"
      ]
     },
     "execution_count": 135,
     "metadata": {},
     "output_type": "execute_result"
    }
   ],
   "source": [
    "math.log(0.5)"
   ]
  },
  {
   "cell_type": "code",
   "execution_count": null,
   "metadata": {},
   "outputs": [],
   "source": []
  }
 ],
 "metadata": {
  "kernelspec": {
   "display_name": "Python 3",
   "language": "python",
   "name": "python3"
  },
  "language_info": {
   "codemirror_mode": {
    "name": "ipython",
    "version": 3
   },
   "file_extension": ".py",
   "mimetype": "text/x-python",
   "name": "python",
   "nbconvert_exporter": "python",
   "pygments_lexer": "ipython3",
   "version": "3.7.4"
  }
 },
 "nbformat": 4,
 "nbformat_minor": 2
}
